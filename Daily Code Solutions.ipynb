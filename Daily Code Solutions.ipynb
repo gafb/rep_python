{
 "cells": [
  {
   "cell_type": "code",
   "execution_count": 1,
   "metadata": {},
   "outputs": [],
   "source": [
    "import matplotlib\n",
    "import matplotlib.pyplot as plt\n",
    "%matplotlib inline\n",
    "def simple_plot(x, y):\n",
    "    fig, ax = plt.subplots()\n",
    "    ax.plot(x, y, 'o-')\n",
    "\n",
    "    ax.set(xlabel='time (s)', ylabel='number of samples',\n",
    "       title='Performance')\n",
    "    ax.grid()\n",
    "\n",
    "#fig.savefig(\"test.png\")\n",
    "    plt.show()"
   ]
  },
  {
   "cell_type": "markdown",
   "metadata": {},
   "source": [
    "## Q1) This problem was recently asked by Google.\n",
    "\n",
    "Given a list of numbers and a number k, return whether any two numbers from the list add up to k.\n",
    "\n",
    "For example, given [10, 15, 3, 7] and k of 17, return true since 10 + 7 is 17.\n",
    "\n",
    "Bonus: Can you do this in one pass?\n",
    "\n",
    "OBS: Complexity O(n) because uses dict which is a hash table, so the operation in average is O(1)"
   ]
  },
  {
   "cell_type": "code",
   "execution_count": 2,
   "metadata": {},
   "outputs": [
    {
     "name": "stdout",
     "output_type": "stream",
     "text": [
      "Pair with given sum 3 is (1, 2)\n",
      "Pair with given sum 3 is (1, 2)\n",
      "Pair with given sum 3 is (1, 2)\n",
      "Pair with given sum 3 is (1, 2)\n",
      "Pair with given sum 3 is (1, 2)\n"
     ]
    },
    {
     "data": {
      "image/png": "[encoded data removed]",
      "text/plain": [
       "<Figure size 432x288 with 1 Axes>"
      ]
     },
     "metadata": {
      "needs_background": "light"
     },
     "output_type": "display_data"
    }
   ],
   "source": [
    "import time\n",
    "import random\n",
    "\n",
    "def two_sum_k(array, k):\n",
    "    start = time.time()    \n",
    "    #for i,val in enumerate(array):\n",
    "    #    if k - val in array[i+1:]:\n",
    "    #        print(\"Solution found : \", str(k - val),\" + \" ,str(array[i]))\n",
    "    #        break\n",
    "    #else:\n",
    "    #    print (\"No Solution Found\")\n",
    "    #s = set() \n",
    "    d = dict() \n",
    "    for i in range(0, len(array)): \n",
    "        temp = k-array[i] \n",
    "        if (temp in d): \n",
    "            print (\"Pair with given sum \"+ str(k) + \" is (\" + str(array[i]) + \", \" + str(temp) + \")\")\n",
    "            break\n",
    "        d[i] = (array[i]) \n",
    "    else:\n",
    "        print(\"No solution was found\")\n",
    "    #print ()\n",
    "    return result, (time.time() - start)\n",
    "\n",
    "sizes = [1000,2000, 10000, 100000,200000]\n",
    "seconds = [0,0,0,0,0]\n",
    "result = 0\n",
    "for index,s in enumerate(sizes):\n",
    "    aux = [random.randint(5, 99999999999) for i in range(s)]\n",
    "    aux.append(1)\n",
    "    aux.append(2)\n",
    "    result, seconds[index] = two_sum_k(aux, 3)\n",
    "    \n",
    "simple_plot(seconds,sizes)\n",
    "\n",
    "\n",
    "\n"
   ]
  },
  {
   "cell_type": "markdown",
   "metadata": {},
   "source": [
    "## Q2 This problem was asked by Uber.\n",
    "\n",
    "Given an array of integers, return a new array such that each element at index i of the new array is the product of all the numbers in the original array except the one at i.\n",
    "\n",
    "For example, if our input was [1, 2, 3, 4, 5], the expected output would be [120, 60, 40, 30, 24]. If our input was [3, 2, 1], the expected output would be [2, 3, 6].\n",
    "\n",
    "Follow-up: what if you can't use division?"
   ]
  },
  {
   "cell_type": "code",
   "execution_count": 3,
   "metadata": {},
   "outputs": [
    {
     "name": "stdout",
     "output_type": "stream",
     "text": [
      "[120, 60, 40, 30, 24]\n"
     ]
    }
   ],
   "source": [
    "#First Solution\n",
    "def multiply_index_out(array): #8\n",
    "    #Without considering that zero will be in the array\n",
    "    #Can use extra space or division\n",
    "    mult = 1\n",
    "    for val in array:\n",
    "        mult *= val\n",
    "    \n",
    "    result =[]\n",
    "    for val in array:\n",
    "        result.append(mult/val)\n",
    "    print (result)\n",
    "\n",
    "#time O(n)\n",
    "#space O(n)\n",
    "#multiply_index_out([1,2,3,4,5])\n",
    "\n",
    "#Second Solution (brute force)\n",
    "def mult_except_one(array):\n",
    "    result = []\n",
    "    \n",
    "    for i in range(0,len(array)):\n",
    "        aux=1    \n",
    "        j = (i+1) % len(array)\n",
    "        while ( j % len(array) !=  i ):\n",
    "            aux = aux*array[j % len(array)]\n",
    "            j+= 1  \n",
    "        \n",
    "        result.append(aux)\n",
    "        \n",
    "    print(result)\n",
    "#mult_except_one([1,2,3,4,5])\n",
    "\n",
    "#O(n²)\n",
    "\n",
    "#Third Solution (bonus: without_division and faster)\n",
    "def mult_except_one2(array): \n",
    "    aux = 1\n",
    "    mult = [1 for i in range(len(array))] \n",
    "    \n",
    "    for i in range(0, len(array)):\n",
    "        mult[i] = aux\n",
    "        aux *= array[i]\n",
    "\n",
    "    aux = 1\n",
    "    for i in range(len(array)-1, -1,-1):\n",
    "        mult[i] *= aux\n",
    "        aux *= array[i]\n",
    "    \n",
    "    print (mult)\n",
    "#Time: O(n)\n",
    "#Space: O(n)\n",
    "mult_except_one2([1,2,3,4,5])\n"
   ]
  },
  {
   "cell_type": "code",
   "execution_count": null,
   "metadata": {},
   "outputs": [],
   "source": []
  }
 ],
 "metadata": {
  "kernelspec": {
   "display_name": "Python 3",
   "language": "python",
   "name": "python3"
  },
  "language_info": {
   "codemirror_mode": {
    "name": "ipython",
    "version": 3
   },
   "file_extension": ".py",
   "mimetype": "text/x-python",
   "name": "python",
   "nbconvert_exporter": "python",
   "pygments_lexer": "ipython3",
   "version": "3.7.3"
  }
 },
 "nbformat": 4,
 "nbformat_minor": 2
}
