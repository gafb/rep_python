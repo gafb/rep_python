{
 "cells": [
  {
   "cell_type": "code",
   "execution_count": 1,
   "metadata": {},
   "outputs": [],
   "source": [
    "import matplotlib\n",
    "import matplotlib.pyplot as plt\n",
    "%matplotlib inline\n",
    "def simple_plot(x, y):\n",
    "    fig, ax = plt.subplots()\n",
    "    ax.plot(x, y, 'o-')\n",
    "\n",
    "    ax.set(xlabel='time (s)', ylabel='number of samples',\n",
    "       title='Performance')\n",
    "    ax.grid()\n",
    "\n",
    "#fig.savefig(\"test.png\")\n",
    "    plt.show()"
   ]
  },
  {
   "cell_type": "markdown",
   "metadata": {},
   "source": [
    "## Q1) This problem was recently asked by Google.\n",
    "\n",
    "Given a list of numbers and a number k, return whether any two numbers from the list add up to k.\n",
    "\n",
    "For example, given [10, 15, 3, 7] and k of 17, return true since 10 + 7 is 17.\n",
    "\n",
    "Bonus: Can you do this in one pass?\n",
    "\n",
    "OBS: Complexity O(n) because uses dict which is a hash table, so the operation in average is O(1)"
   ]
  },
  {
   "cell_type": "code",
   "execution_count": 2,
   "metadata": {},
   "outputs": [
    {
     "name": "stdout",
     "output_type": "stream",
     "text": [
      "Pair with given sum 3 is (1, 2)\n",
      "Pair with given sum 3 is (1, 2)\n",
      "Pair with given sum 3 is (1, 2)\n",
      "Pair with given sum 3 is (1, 2)\n",
      "Pair with given sum 3 is (1, 2)\n"
     ]
    },
    {
     "data": {
      "image/png": "[encoded data removed]",
      "text/plain": [
       "<Figure size 432x288 with 1 Axes>"
      ]
     },
     "metadata": {
      "needs_background": "light"
     },
     "output_type": "display_data"
    }
   ],
   "source": [
    "import time\n",
    "import random\n",
    "\n",
    "def two_sum_k(array, k):\n",
    "    start = time.time()    \n",
    "    #for i,val in enumerate(array):\n",
    "    #    if k - val in array[i+1:]:\n",
    "    #        print(\"Solution found : \", str(k - val),\" + \" ,str(array[i]))\n",
    "    #        break\n",
    "    #else:\n",
    "    #    print (\"No Solution Found\")\n",
    "    #s = set() \n",
    "    d = dict() \n",
    "    for i in range(0, len(array)): \n",
    "        temp = k-array[i] \n",
    "        if (temp in d): \n",
    "            print (\"Pair with given sum \"+ str(k) + \" is (\" + str(array[i]) + \", \" + str(temp) + \")\")\n",
    "            break\n",
    "        d[i] = (array[i]) \n",
    "    else:\n",
    "        print(\"No solution was found\")\n",
    "    #print ()\n",
    "    return result, (time.time() - start)\n",
    "\n",
    "sizes = [1000,2000, 10000, 100000,200000]\n",
    "seconds = [0,0,0,0,0]\n",
    "result = 0\n",
    "for index,s in enumerate(sizes):\n",
    "    aux = [random.randint(5, 99999999999) for i in range(s)]\n",
    "    aux.append(1)\n",
    "    aux.append(2)\n",
    "    result, seconds[index] = two_sum_k(aux, 3)\n",
    "    \n",
    "simple_plot(seconds,sizes)\n",
    "\n",
    "\n",
    "\n"
   ]
  },
  {
   "cell_type": "markdown",
   "metadata": {},
   "source": [
    "## Q2 This problem was asked by Uber.\n",
    "\n",
    "Given an array of integers, return a new array such that each element at index i of the new array is the product of all the numbers in the original array except the one at i.\n",
    "\n",
    "For example, if our input was [1, 2, 3, 4, 5], the expected output would be [120, 60, 40, 30, 24]. If our input was [3, 2, 1], the expected output would be [2, 3, 6].\n",
    "\n",
    "Follow-up: what if you can't use division?"
   ]
  },
  {
   "cell_type": "code",
   "execution_count": 3,
   "metadata": {},
   "outputs": [
    {
     "name": "stdout",
     "output_type": "stream",
     "text": [
      "[120, 60, 40, 30, 24]\n"
     ]
    }
   ],
   "source": [
    "#First Solution\n",
    "def multiply_index_out(array): #8\n",
    "    #Without considering that zero will be in the array\n",
    "    #Can use extra space or division\n",
    "    mult = 1\n",
    "    for val in array:\n",
    "        mult *= val\n",
    "    \n",
    "    result =[]\n",
    "    for val in array:\n",
    "        result.append(mult/val)\n",
    "    print (result)\n",
    "\n",
    "#time O(n)\n",
    "#space O(n)\n",
    "#multiply_index_out([1,2,3,4,5])\n",
    "\n",
    "#Second Solution (brute force)\n",
    "def mult_except_one(array):\n",
    "    result = []\n",
    "    \n",
    "    for i in range(0,len(array)):\n",
    "        aux=1    \n",
    "        j = (i+1) % len(array)\n",
    "        while ( j % len(array) !=  i ):\n",
    "            aux = aux*array[j % len(array)]\n",
    "            j+= 1  \n",
    "        \n",
    "        result.append(aux)\n",
    "        \n",
    "    print(result)\n",
    "#mult_except_one([1,2,3,4,5])\n",
    "\n",
    "#O(n²)\n",
    "\n",
    "#Third Solution (bonus: without_division and faster)\n",
    "def mult_except_one2(array): \n",
    "    aux = 1\n",
    "    mult = [1 for i in range(len(array))] \n",
    "    \n",
    "    for i in range(0, len(array)):\n",
    "        mult[i] = aux\n",
    "        aux *= array[i]\n",
    "\n",
    "    aux = 1\n",
    "    for i in range(len(array)-1, -1,-1):\n",
    "        mult[i] *= aux\n",
    "        aux *= array[i]\n",
    "    \n",
    "    print (mult)\n",
    "#Time: O(n)\n",
    "#Space: O(n)\n",
    "mult_except_one2([1,2,3,4,5])\n"
   ]
  },
  {
   "cell_type": "markdown",
   "metadata": {},
   "source": [
    "## Q3 This problem was asked by Google.\n",
    "\n",
    "Given the root to a binary tree, implement serialize(root), which serializes the tree into a string, and deserialize(s), which deserializes the string back into the tree."
   ]
  },
  {
   "cell_type": "code",
   "execution_count": 4,
   "metadata": {},
   "outputs": [
    {
     "name": "stdout",
     "output_type": "stream",
     "text": [
      "left\n",
      "left.left\n",
      "right\n",
      "root[left[left.left]][right]\n"
     ]
    }
   ],
   "source": [
    "class Node: #45\n",
    "    def __init__(self, val, left=None, right=None):\n",
    "        self.val = val\n",
    "        self.left = left\n",
    "        self.right = right\n",
    "\n",
    "def serialize(head): #O(n)\n",
    "    if head == None:\n",
    "        return \"\"\n",
    "    \n",
    "    result = head.val\n",
    "    if head.left != None:\n",
    "        result += \"[\" + serialize(head.left)+ \"]\"\n",
    "    if head.right != None:\n",
    "        result += \"[\" + serialize(head.right) +\"]\"\n",
    "    \n",
    "    return result\n",
    "\n",
    "def deserialize(myString, head=None): #O(n)\n",
    "    pos = myString.find(\"[\")\n",
    "    val = myString[:pos]\n",
    "    \n",
    "    count = 0\n",
    "    count2 =0\n",
    "    \n",
    "    left,right = None, None\n",
    "     \n",
    "    for i in range(0, len(myString)):\n",
    "        if (myString[i] == \"[\"):\n",
    "            count +=1\n",
    "        elif (myString[i] == \"]\"):\n",
    "            count2 +=1\n",
    "        \n",
    "        if (count == count2 and count!=0):\n",
    "            left = deserialize(myString[pos+1:i+1])\n",
    "            pos = i+1\n",
    "            break\n",
    "\n",
    "    count = 0\n",
    "    count2 =0\n",
    "    for i in range(pos, len(myString)):\n",
    "        if (myString[i] == \"[\"):\n",
    "            count +=1\n",
    "        elif (myString[i] == \"]\"):\n",
    "            count2 +=1\n",
    "        \n",
    "        if (count == count2 and count!=0):\n",
    "            right = deserialize(myString[pos+1:i+1])\n",
    "            \n",
    "            break\n",
    "    return Node(val, left, right)\n",
    "   \n",
    "        \n",
    "\n",
    "node = Node('root', Node('left', Node('left.left')), Node('right'))\n",
    "x = deserialize(serialize(node))\n",
    "print(x.left.val)\n",
    "print(x.left.left.val)\n",
    "print(x.right.val)\n",
    "print(serialize(node))\n",
    "\n",
    "assert deserialize(serialize(node)).left.left.val == 'left.left'\n",
    "\n"
   ]
  },
  {
   "cell_type": "markdown",
   "metadata": {},
   "source": [
    "## Q4 This problem was asked by Stripe.\n",
    "\n",
    "Given an array of integers, find the first missing positive integer in linear time and constant space. In other words, find the lowest positive integer that does not exist in the array. The array can contain duplicates and negative numbers as well.\n",
    "\n",
    "For example, the input [3, 4, -1, 1] should give 2. The input [1, 2, 0] should give 3.\n",
    "\n",
    "You can modify the input array in-place."
   ]
  },
  {
   "cell_type": "code",
   "execution_count": 5,
   "metadata": {},
   "outputs": [
    {
     "name": "stdout",
     "output_type": "stream",
     "text": [
      "[0, 1, 9, 8, 9, 15, 22, 1, 2, 5, 6, 3, 4, 7, 12, -1, -1, -2, -1]\n",
      "[-1, -1, -1, -1, -1, -1, -1, -1, -1, -1, 6, 3, -1, 7, 12, -1, -1, -2, -1]\n",
      "10\n"
     ]
    }
   ],
   "source": [
    "def lowest_positive_integer(array):\n",
    "    j = len(array)-1\n",
    "    #for i in range(len(array)-1):\n",
    "    i=0\n",
    "    while i < len(array)-1 and i < j:\n",
    "        if array[i] < 0:\n",
    "            \n",
    "            aux = array[j]\n",
    "            array[j] = array[i]\n",
    "            array[i] = aux\n",
    "            #print(array[i])\n",
    "\n",
    "            j-=1\n",
    "        i+=1\n",
    "    \n",
    "    i=0\n",
    "    aux = array[0]\n",
    "    print(array)\n",
    "    while i < (j+2):\n",
    "        \n",
    "        if aux < j+1 and aux != -1:\n",
    "            newAux = array[aux]\n",
    "            array[aux] =-1\n",
    "            aux = newAux\n",
    "\n",
    "        else:\n",
    "            aux = array[i]\n",
    "            i+=1\n",
    "       # print(aux)\n",
    "    print(array)\n",
    "    for i in range(len(array)):\n",
    "        if array[i] != i and array[i]!=-1:\n",
    "            result = i\n",
    "            break\n",
    "    print(result)\n",
    "    \n",
    "array = [3,4,-1,1]\n",
    "array = [-1,1,9,8,9,15,22,1,2,-2,6,3,4,7,12,-1,-1,5,0]\n",
    "lowest_positive_integer(array)"
   ]
  },
  {
   "cell_type": "markdown",
   "metadata": {},
   "source": [
    "## Q5 This problem was asked by Jane Street.\n",
    "\n",
    "cons(a, b) constructs a pair, and car(pair) and cdr(pair) returns the first and last element of that pair. For example, car(cons(3, 4)) returns 3, and cdr(cons(3, 4)) returns 4.\n",
    "\n",
    "Given this implementation of cons:\n",
    "\n",
    "def cons(a, b):\n",
    "    def pair(f):\n",
    "        return f(a, b)\n",
    "    return pair\n",
    "Implement car and cdr."
   ]
  },
  {
   "cell_type": "code",
   "execution_count": 6,
   "metadata": {},
   "outputs": [
    {
     "name": "stdout",
     "output_type": "stream",
     "text": [
      "3\n",
      "4\n"
     ]
    }
   ],
   "source": [
    "def cons(a, b): #Functional programming\n",
    "    def pair(f):\n",
    "        return f(a, b)\n",
    "    return pair\n",
    "\n",
    "def car(f):\n",
    "    def first(a, b):\n",
    "        return a\n",
    "    return f(first)\n",
    "\n",
    "def cdr(f):\n",
    "    def second(a,b):\n",
    "        return b\n",
    "    return f(second)\n",
    "\n",
    "print(car(cons(3,4)))\n",
    "print(cdr(cons(3,4)))"
   ]
  },
  {
   "cell_type": "markdown",
   "metadata": {},
   "source": [
    "## Q6 This problem was asked by Google.\n",
    "\n",
    "An XOR linked list is a more memory efficient doubly linked list. Instead of each node holding next and prev fields, it holds a field named both, which is an XOR of the next node and the previous node. Implement an XOR linked list; it has an add(element) which adds the element to the end, and a get(index) which returns the node at index.\n",
    "\n",
    "If using a language that has no pointers (such as Python), you can assume you have access to get_pointer and dereference_pointer functions that converts between nodes and memory addresses.\n",
    "\n",
    "### skipped"
   ]
  },
  {
   "cell_type": "markdown",
   "metadata": {},
   "source": [
    "\n",
    "## Q7 This problem was asked by Facebook.\n",
    "\n",
    "Given the mapping a = 1, b = 2, ... z = 26, and an encoded message, count the number of ways it can be decoded.\n",
    "\n",
    "For example, the message '111' would give 3, since it could be decoded as 'aaa', 'ka', and 'ak'.\n",
    "\n",
    "You can assume that the messages are decodable. For example, '001' is not allowed."
   ]
  },
  {
   "cell_type": "code",
   "execution_count": 7,
   "metadata": {},
   "outputs": [
    {
     "data": {
      "text/plain": [
       "3"
      ]
     },
     "execution_count": 7,
     "metadata": {},
     "output_type": "execute_result"
    }
   ],
   "source": [
    "def decode_map(str_input):\n",
    "    \n",
    "    memo = [None] * len(str_input)\n",
    "    return decode(str_input, len(str_input) ,memo)\n",
    "\n",
    "def decode(data,a, memo):\n",
    "    if a == 0:\n",
    "        return 1\n",
    "    \n",
    "    b = len(data) - a\n",
    "    \n",
    "    if memo[a-1] !=None:\n",
    "        return memo[a]\n",
    "    \n",
    "    result = decode(data, a-1, memo)\n",
    "    if a > 1 and int(data[b:b+2]) < 26:\n",
    "        result += decode(data, a-2,memo)\n",
    "        memo[a-1] = result\n",
    "    return result\n",
    "\n",
    "decode_map('111')"
   ]
  },
  {
   "cell_type": "markdown",
   "metadata": {},
   "source": [
    "## Q8 This problem was asked by Google.\n",
    "\n",
    "A unival tree (which stands for \"universal value\") is a tree where all nodes under it have the same value.\n",
    "\n",
    "Given the root to a binary tree, count the number of unival subtrees.\n",
    "\n",
    "For example, the following tree has 5 unival subtrees:\n",
    "\n",
    "   0\n",
    "   \n",
    "  / \\\n",
    " \n",
    " 1   0\n",
    "\n",
    "    /\\\n",
    "   \n",
    "    1  0\n",
    "  \n",
    "   / \\\n",
    " \n",
    "   1   1\n",
    "\n",
    "  a\n",
    " / \\\n",
    "c   b\n",
    "    /\\\n",
    "   b  b\n",
    "        \\\n",
    "         b"
   ]
  },
  {
   "cell_type": "code",
   "execution_count": 8,
   "metadata": {},
   "outputs": [
    {
     "data": {
      "text/plain": [
       "3"
      ]
     },
     "execution_count": 8,
     "metadata": {},
     "output_type": "execute_result"
    }
   ],
   "source": [
    "class TreeNode():\n",
    "    def __init__(self, data, left=None, right=None):\n",
    "        self.data = data\n",
    "        self.right = right\n",
    "        self.left = left\n",
    "        \n",
    "root = TreeNode('0')\n",
    "root.left = TreeNode('1')\n",
    "root.right = TreeNode('0')\n",
    "root.right.left = TreeNode('1')\n",
    "root.right.right = TreeNode('0')\n",
    "root.right.left.left = TreeNode('1')\n",
    "root.right.left.right = TreeNode('1')\n",
    "\n",
    "head = TreeNode('a')\n",
    "head.left = TreeNode('c')\n",
    "head.right = TreeNode('b')\n",
    "head.right.left = TreeNode('b')\n",
    "head.right.right = TreeNode('b')\n",
    "head.right.right.right = TreeNode('b')\n",
    "\n",
    "start = TreeNode('a')\n",
    "start.left = TreeNode('a')\n",
    "start.right = TreeNode('a')\n",
    "start.right.left = TreeNode('a')\n",
    "start.right.right = TreeNode('a')\n",
    "start.right.right.right = TreeNode('A')\n",
    "\n",
    "#First Solution #O(n²) Top-Down\n",
    "def isUnival(root, val): \n",
    "    if root == None:\n",
    "        return True\n",
    "    if root.data == val:\n",
    "        return isUnival(root.left, val) and isUnival(root.right, val)\n",
    "    return False\n",
    "\n",
    "def univalCount(root):\n",
    "    if root == None:\n",
    "        return 0\n",
    "    left = univalCount(root.left)\n",
    "    right = univalCount(root.right)\n",
    "    \n",
    "    result = left + right\n",
    "    if isUnival(root, root.data):\n",
    "        result += 1\n",
    "    return result\n",
    "\n",
    "#Second solution bottom-up (O(n))\n",
    "\n",
    "def countUnivalTree(root):\n",
    "    result, _ = univalTree(root)\n",
    "    return result\n",
    "\n",
    "def univalTree(root):\n",
    "    if root == None:\n",
    "        return 0, True\n",
    "    \n",
    "    \n",
    "    left, is_unival_left = univalTree(root.left)\n",
    "    right, is_unival_right = univalTree(root.right)\n",
    "    \n",
    "    \n",
    "    if is_unival_left and is_unival_right:\n",
    "        \n",
    "        if root.left == None and root.right == None: # Leaf\n",
    "            return 1 + left + right, True\n",
    "        \n",
    "        #both values equals\n",
    "        elif (root.left!= None and root.left.data == root.data) and (root.right!= None and root.right.data == root.data):\n",
    "            return 1 + left +right, True\n",
    "        \n",
    "        #One of the child is None and the other is equal to the root\n",
    "        elif (root.left != None and root.left.data == root.data and root.right == None) or (root.right != None and root.right.data == root.data and root.left == None):\n",
    "            return 1 + left +right, True\n",
    "        \n",
    "        #Resumed if statement\n",
    "        # if (root.left!= None and root.left.data != root.data) or (root.right!= None and root.right.data != root.data):\n",
    "       #     return  right + left, False    \n",
    "    \n",
    "       # return 1 + left + right, True\n",
    "        \n",
    "        return left + right, False\n",
    "    return left + right, False\n",
    "#univalCount(root)\n",
    "#univalCount(head)\n",
    "#univalCount(start)\n",
    "countUnivalTree(start)\n",
    "#countUnivalTree(root)\n",
    "#countUnivalTree(head)"
   ]
  },
  {
   "cell_type": "markdown",
   "metadata": {},
   "source": [
    "## Q9 This problem was asked by Airbnb.\n",
    "\n",
    "Given a list of integers, write a function that returns the largest sum of non-adjacent numbers. Numbers can be 0 or negative.\n",
    "\n",
    "For example, [2, 4, 6, 2, 5] should return 13, since we pick 2, 6, and 5. [5, 1, 1, 5] should return 10, since we pick 5 and 5.\n",
    "\n",
    "Follow-up: Can you do this in O(N) time and constant space?"
   ]
  },
  {
   "cell_type": "code",
   "execution_count": 3,
   "metadata": {},
   "outputs": [
    {
     "name": "stdout",
     "output_type": "stream",
     "text": [
      "13\n",
      "9\n",
      "10\n"
     ]
    }
   ],
   "source": [
    "def largest_nonAdjacentSum(input_array):\n",
    "    if (len(input_array) == 0):\n",
    "        return 0\n",
    "    \n",
    "    a = 0\n",
    "    b = 0\n",
    "    \n",
    "    for val in input_array:\n",
    "        if (b > a):\n",
    "            b2 = b\n",
    "        else:\n",
    "            b2 = a\n",
    "        \n",
    "        a = b + val\n",
    "        b = b2\n",
    "    \n",
    "    return b if b >a else a\n",
    "    \n",
    "    \n",
    "print(largest_nonAdjacentSum([2,4,6,2,5]))\n",
    "print(largest_nonAdjacentSum([2,4,-6,2,5]))\n",
    "print(largest_nonAdjacentSum([5,1,1,5]))"
   ]
  },
  {
   "cell_type": "markdown",
   "metadata": {},
   "source": [
    "## Q10 This problem was asked by Apple.\n",
    "\n",
    "Implement a job scheduler which takes in a function f and an integer n, and calls f after n milliseconds."
   ]
  },
  {
   "cell_type": "code",
   "execution_count": 7,
   "metadata": {},
   "outputs": [
    {
     "name": "stdout",
     "output_type": "stream",
     "text": [
      "30\n"
     ]
    }
   ],
   "source": [
    "import time\n",
    "\n",
    "def job_scheduler(f, n):\n",
    "    time.sleep(n)\n",
    "    print(f)\n",
    "def func(a,b):\n",
    "    return a+b\n",
    "\n",
    "job_scheduler(func(10,20), 3/100)"
   ]
  },
  {
   "cell_type": "code",
   "execution_count": null,
   "metadata": {},
   "outputs": [],
   "source": []
  }
 ],
 "metadata": {
  "kernelspec": {
   "display_name": "Python 3",
   "language": "python",
   "name": "python3"
  },
  "language_info": {
   "codemirror_mode": {
    "name": "ipython",
    "version": 3
   },
   "file_extension": ".py",
   "mimetype": "text/x-python",
   "name": "python",
   "nbconvert_exporter": "python",
   "pygments_lexer": "ipython3",
   "version": "3.7.3"
  }
 },
 "nbformat": 4,
 "nbformat_minor": 2
}
