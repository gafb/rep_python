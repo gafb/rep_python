{
 "cells": [
  {
   "cell_type": "markdown",
   "metadata": {},
   "source": [
    "### Variáveis\n",
    "* Podem ter qualquer nome, exceto nome de comandos como 'if' ou 'while' ou de funções como o 'print'\n",
    "* Podem armazenar valores (inteiros, float(números com casas decimais), string (conjunto de caracteres), estruturas,etc...\n",
    "* Fortemente, dinamicamente tipadas e múltipla"
   ]
  },
  {
   "cell_type": "code",
   "execution_count": 1,
   "metadata": {},
   "outputs": [
    {
     "name": "stdout",
     "output_type": "stream",
     "text": [
      "Hello World\n",
      "2\n",
      "0\n",
      "1024\n"
     ]
    }
   ],
   "source": [
    "# \n",
    "\n",
    "variavel = \"Hello World\"\n",
    "x = 1\n",
    "x = x+1 # Equivalente à x +=1\n",
    "\n",
    "print (variavel) # Função para mostrar na tela o conteúdo que está dentro do parenteses\n",
    "print (x)\n",
    "print (x%2) # resto da divisão de x com 2\n",
    "print (2 **10)\n",
    "\n",
    "#print (10+\"pense\")\n",
    "#print (\"10\"+\"pense\")\n"
   ]
  },
  {
   "cell_type": "markdown",
   "metadata": {},
   "source": [
    "### Operações booleanas"
   ]
  },
  {
   "cell_type": "code",
   "execution_count": 2,
   "metadata": {},
   "outputs": [
    {
     "name": "stdout",
     "output_type": "stream",
     "text": [
      "False\n",
      "True\n",
      "True\n"
     ]
    }
   ],
   "source": [
    "\n",
    "print (10 < 9.99999)\n",
    "print (20 == 10+10)\n",
    "print (\"a\" != \"b\")"
   ]
  },
  {
   "cell_type": "markdown",
   "metadata": {},
   "source": [
    "### Ler do teclado"
   ]
  },
  {
   "cell_type": "code",
   "execution_count": 3,
   "metadata": {},
   "outputs": [
    {
     "name": "stdout",
     "output_type": "stream",
     "text": [
      "Digite seu nome para continuar : Gabriel\n",
      "Olá  Gabriel\n"
     ]
    }
   ],
   "source": [
    "nome = input(\"Digite seu nome para continuar : \")\n",
    "print (\"Olá \", nome)"
   ]
  },
  {
   "cell_type": "markdown",
   "metadata": {},
   "source": [
    "### Comandos condicionais"
   ]
  },
  {
   "cell_type": "code",
   "execution_count": 4,
   "metadata": {},
   "outputs": [
    {
     "name": "stdout",
     "output_type": "stream",
     "text": [
      "Digite sua senha para continuar : 00000\n",
      "Ola  Gabriel foi enviado um email para você redefinir sua senha\n"
     ]
    }
   ],
   "source": [
    "senha = int(input(\"Digite sua senha para continuar : \"))\n",
    "\n",
    "if (senha == 12345):\n",
    "    print (\"Seja bem vindo\", nome)\n",
    "elif (senha == 0):\n",
    "    print (\"Ola \", nome, \"foi enviado um email para você redefinir sua senha\")\n",
    "else:\n",
    "    print (\"Desculpe você digitou a senha errada, tente novamente\")"
   ]
  },
  {
   "cell_type": "markdown",
   "metadata": {},
   "source": [
    "### Atividades\n",
    "\n",
    "1. Faça um divisão de float e printe ele com duas casas decimais apenas Ex: 10.0/3.0 = 3.33\n",
    "3. Leia dois números do teclado e retorne o maior deles\n",
    "4. Leia dois números e entregue a média deles\n",
    "2. Digite a velocidade media de um veiculo e o tempo que o motorista dirigiu e retorne a distância percorrida\n",
    "3. Digite a distancia percorrida de um carro e o preço da gasolina e exiba quanto voce gastou\n",
    "4. Receba como input do teclado a temperatura em Celsius e exiba em Fahrenheit\n",
    "5. Suponha que se sua conta de energia for acima de 100 reais você tem que pagar 10% e se for entre 100 e 200 você paga 15% e se for maior que 200 reais você paga 20% do valor a mais (faça usando ifs aninhados e if, elif e else)\n",
    "6. Calcule um programa  de redução do tempo de vida de um fumante. Pergunte a quantidade de cigarros fumados por dia e quantos anos ele já fumou. Considere que um fumante perde 10 minutos de vida a cada cigarro, calcule quantos dias de vida um fumante perdeu. Mostre o total de dias."
   ]
  },
  {
   "cell_type": "markdown",
   "metadata": {},
   "source": [
    "Próximos assuntos\n",
    "\n",
    "* Comandos de iteração\n",
    "* Funçoes\n",
    "* Listas\n",
    "* Leitura de arquivos\n",
    "* Dicionários\n",
    "* Objetos\n",
    "* Pandas\n",
    "\n",
    "Obs: Pode ter outros assuntos no meio desses."
   ]
  },
  {
   "cell_type": "code",
   "execution_count": null,
   "metadata": {},
   "outputs": [],
   "source": []
  },
  {
   "cell_type": "code",
   "execution_count": null,
   "metadata": {},
   "outputs": [],
   "source": []
  }
 ],
 "metadata": {
  "kernelspec": {
   "display_name": "Python 3",
   "language": "python",
   "name": "python3"
  },
  "language_info": {
   "codemirror_mode": {
    "name": "ipython",
    "version": 3
   },
   "file_extension": ".py",
   "mimetype": "text/x-python",
   "name": "python",
   "nbconvert_exporter": "python",
   "pygments_lexer": "ipython3",
   "version": "3.6.8"
  }
 },
 "nbformat": 4,
 "nbformat_minor": 2
}
