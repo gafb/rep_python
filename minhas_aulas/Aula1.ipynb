{
 "cells": [
  {
   "cell_type": "markdown",
   "metadata": {},
   "source": [
    "### Variáveis\n",
    "* Podem ter qualquer nome, exceto nome de comandos como 'if' ou 'while' ou de funções como o 'print'\n",
    "* Podem armazenar valores (inteiros, float(números com casas decimais), string (conjunto de caracteres), estruturas,etc...\n",
    "* Fortemente, dinamicamente tipadas e múltipla"
   ]
  },
  {
   "cell_type": "code",
   "execution_count": 1,
   "metadata": {},
   "outputs": [
    {
     "name": "stdout",
     "output_type": "stream",
     "text": [
      "Hello World\n",
      "2\n",
      "0\n",
      "1024\n"
     ]
    }
   ],
   "source": [
    "# \n",
    "\n",
    "variavel = \"Hello World\"\n",
    "x = 1\n",
    "x = x+1 # Equivalente à x +=1\n",
    "\n",
    "print (variavel) # Função para mostrar na tela o conteúdo que está dentro do parenteses\n",
    "print (x)\n",
    "print (x%2) # resto da divisão de x com 2\n",
    "print (2 **10)\n",
    "\n",
    "#print (10+\"pense\")\n",
    "#print (\"10\"+\"pense\")\n"
   ]
  },
  {
   "cell_type": "markdown",
   "metadata": {},
   "source": [
    "### Operações booleanas"
   ]
  },
  {
   "cell_type": "code",
   "execution_count": 2,
   "metadata": {},
   "outputs": [
    {
     "name": "stdout",
     "output_type": "stream",
     "text": [
      "False\n",
      "True\n",
      "True\n"
     ]
    }
   ],
   "source": [
    "\n",
    "print (10 < 9.99999)\n",
    "print (20 == 10+10)\n",
    "print (\"a\" != \"b\")"
   ]
  },
  {
   "cell_type": "markdown",
   "metadata": {},
   "source": [
    "### Ler do teclado"
   ]
  },
  {
   "cell_type": "code",
   "execution_count": 3,
   "metadata": {},
   "outputs": [
    {
     "name": "stdout",
     "output_type": "stream",
     "text": [
      "Digite seu nome para continuar : Gabriel\n",
      "Olá  Gabriel\n"
     ]
    }
   ],
   "source": [
    "nome = input(\"Digite seu nome para continuar : \")\n",
    "print (\"Olá \", nome)"
   ]
  },
  {
   "cell_type": "markdown",
   "metadata": {},
   "source": [
    "### Exercício resolvido #1\n",
    "\n",
    "Solicite o preço de uma mercadoria e em seguida o percentual de desconto. Exiba o valor do desconto e o preço final a pagar.\n",
    "\n"
   ]
  },
  {
   "cell_type": "code",
   "execution_count": 9,
   "metadata": {},
   "outputs": [
    {
     "name": "stdout",
     "output_type": "stream",
     "text": [
      "Digite o valor da mercadoria : 15\n",
      "Digite a porcentagem do desconto ('Sem o %') : 15\n",
      "O valor final do produto é 12.75\n"
     ]
    }
   ],
   "source": [
    "preco = float(input(\"Digite o valor da mercadoria : \")) # Recebendo o valor da mercadoria \n",
    "desc = int (input(\"Digite a porcentagem do desconto ('Sem o %') : \")) # O valor do desconto Ex: 10 -> 10%, 15 -> 15%\n",
    "\n",
    "\n",
    "print (\"O valor final do produto é\", preco - preco*(desc/100))"
   ]
  },
  {
   "cell_type": "markdown",
   "metadata": {},
   "source": [
    "### Exercícios\n",
    "\n",
    "\n",
    "1. Leia dois números e entregue a média deles\n",
    "2. Leia dois números do teclado e retorne o maior deles\n",
    "3. Digite a velocidade media de um veiculo e o tempo que o motorista dirigiu e retorne a distância percorrida\n",
    "4. Digite a distancia percorrida de um carro e o preço da gasolina e exiba quanto voce gastou\n",
    "5. Receba como input do teclado a temperatura em Celsius e exiba em Fahrenheit F = 9*C/5 + 32\n",
    "\n"
   ]
  },
  {
   "cell_type": "markdown",
   "metadata": {},
   "source": [
    "Próximos assuntos\n",
    "\n",
    "* Comandos condicionais\n",
    "* Comandos de iteração\n",
    "* Funçoes\n",
    "* Listas\n",
    "* Leitura de arquivos\n",
    "* Dicionários\n",
    "* Objetos\n",
    "* Pandas\n",
    "\n",
    "Obs: Pode ter outros assuntos no meio desses."
   ]
  }
 ],
 "metadata": {
  "kernelspec": {
   "display_name": "Python 3",
   "language": "python",
   "name": "python3"
  },
  "language_info": {
   "codemirror_mode": {
    "name": "ipython",
    "version": 3
   },
   "file_extension": ".py",
   "mimetype": "text/x-python",
   "name": "python",
   "nbconvert_exporter": "python",
   "pygments_lexer": "ipython3",
   "version": "3.6.8"
  }
 },
 "nbformat": 4,
 "nbformat_minor": 2
}
