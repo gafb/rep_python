{
 "cells": [
  {
   "cell_type": "markdown",
   "metadata": {},
   "source": [
    "### Variáveis\n",
    "* Podem ter qualquer nome, exceto nome de comandos como 'if' ou 'while' ou de funções como o 'print'\n",
    "* Podem armazenar valores (inteiros, float(números com casas decimais), string (conjunto de caracteres), estruturas,etc...\n",
    "* Fortemente, dinamicamente tipadas e múltipla"
   ]
  },
  {
   "cell_type": "code",
   "execution_count": 1,
   "metadata": {},
   "outputs": [
    {
     "name": "stdout",
     "output_type": "stream",
     "text": [
      "Hello World\n",
      "2\n",
      "0\n"
     ]
    },
    {
     "data": {
      "text/plain": [
       "'\\nprint (10+\"pense\")\\nprint (\"10\"+\"pense\")\\n'"
      ]
     },
     "execution_count": 1,
     "metadata": {},
     "output_type": "execute_result"
    }
   ],
   "source": [
    "# \n",
    "\n",
    "variavel = \"Hello World\"\n",
    "x = 1\n",
    "x = x+1 # Equivalente à x +=1\n",
    "\n",
    "print (variavel) # Função para mostrar na tela o conteúdo que está dentro do parenteses\n",
    "print (x)\n",
    "print (x%2) # resto da divisão de x com 2\n",
    "\n",
    "\"\"\"\n",
    "print (10+\"pense\")\n",
    "print (\"10\"+\"pense\")\n",
    "\"\"\""
   ]
  },
  {
   "cell_type": "markdown",
   "metadata": {},
   "source": [
    "### Listas e operadores booleanos\n",
    "\n",
    "* Lista é um tipo de estrutura que permite armazenar um conjunto de valores\n",
    "* Operadores booleanos retornam verdadeiro ou falso"
   ]
  },
  {
   "cell_type": "code",
   "execution_count": 2,
   "metadata": {},
   "outputs": [
    {
     "name": "stdout",
     "output_type": "stream",
     "text": [
      "O tamanho da lista X é : 5\n",
      "Bom dia\n",
      "10.12345\n",
      "False\n",
      "True\n",
      "True\n"
     ]
    }
   ],
   "source": [
    "x = [\"Bom dia\",\"Boa tarde\",\"Boa noite\",9,10.12345] # Lista\n",
    "print (\"O tamanho da lista X é :\",len(x))\n",
    "print (x[0])\n",
    "print (x[4])\n",
    "print (10 < 9.99999)\n",
    "print (20 == 10+10)\n",
    "print (\"a\" != \"b\")"
   ]
  },
  {
   "cell_type": "markdown",
   "metadata": {},
   "source": [
    "### Dicionário\n",
    "\n",
    "* Permite acessar o valor de um índice que foi setado, como 'Nome' no exemplo abaixo"
   ]
  },
  {
   "cell_type": "code",
   "execution_count": 3,
   "metadata": {},
   "outputs": [
    {
     "name": "stdout",
     "output_type": "stream",
     "text": [
      "['Peter', 'Jane', 'Osborn', 'May']\n",
      "Jane\n"
     ]
    }
   ],
   "source": [
    "\n",
    "Documentos = {\"Nome\": [\"Peter\", \"Jane\", \"Osborn\", \"May\"], \"Idade\":[25, 25, 50], \"Ocupacao\": [\"Fotógrafo\", \"Atriz\", \"Rico\", \"Aposentada\"]}\n",
    "\n",
    "print (Documentos[\"Nome\"])\n",
    "print (Documentos[\"Nome\"][1])"
   ]
  },
  {
   "cell_type": "markdown",
   "metadata": {},
   "source": [
    "### Atividades\n",
    "1. Criar um dicionario com as informações de 3 pessoas da familia e que tenha pelo menos 3 índices e um dicionário dentro desse dicionário e acesse um elemento desse dicionário\n",
    "2. Para uma lista qualquer printe o elemento central dele ou o dps do central caso seja uma lista de tamanho par Ex [1,2,3,4,5] -> Printe o 3 , [a,b,c,d] -> Printe o C Obs: Pode ser bom pesquisar a funcao teto\n",
    "\n",
    "3. Faça um divisão de float e printe ele com duas casas decimais apenas Ex: 10.0/3.0 = 3.33"
   ]
  },
  {
   "cell_type": "markdown",
   "metadata": {},
   "source": [
    "Próximos assuntos\n",
    "\n",
    "* Comandos condicionais\n",
    "* Funçoes\n",
    "* Comandos de iteração\n",
    "* Leitura de arquivos\n",
    "* Objetos\n",
    "* Pandas\n",
    "\n",
    "Obs: Pode ter outros assuntos no meio desses."
   ]
  }
 ],
 "metadata": {
  "kernelspec": {
   "display_name": "Python 3",
   "language": "python",
   "name": "python3"
  },
  "language_info": {
   "codemirror_mode": {
    "name": "ipython",
    "version": 3
   },
   "file_extension": ".py",
   "mimetype": "text/x-python",
   "name": "python",
   "nbconvert_exporter": "python",
   "pygments_lexer": "ipython3",
   "version": "3.6.8"
  }
 },
 "nbformat": 4,
 "nbformat_minor": 2
}
