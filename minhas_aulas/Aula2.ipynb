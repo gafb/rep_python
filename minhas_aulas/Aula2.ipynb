{
 "cells": [
  {
   "cell_type": "markdown",
   "metadata": {},
   "source": [
    "### Comandos condicionais"
   ]
  },
  {
   "cell_type": "code",
   "execution_count": 1,
   "metadata": {},
   "outputs": [
    {
     "name": "stdout",
     "output_type": "stream",
     "text": [
      "Digite seu nome de usuario : Gabriel\n",
      "Digite sua senha para continuar : 12345\n",
      "Seja bem vindo Gabriel\n"
     ]
    }
   ],
   "source": [
    "nome = input (\"Digite seu nome de usuario : \")\n",
    "senha = int(input(\"Digite sua senha para continuar : \"))\n",
    "\n",
    "if (senha == 12345):\n",
    "    print (\"Seja bem vindo\", nome)\n",
    "elif (senha == 0):\n",
    "    print (\"Ola \", nome, \"foi enviado um email para você redefinir sua senha\")\n",
    "else:\n",
    "    print (\"Desculpe você digitou a senha errada, tente novamente\")"
   ]
  },
  {
   "cell_type": "markdown",
   "metadata": {},
   "source": [
    "### Comandos de iteração\n"
   ]
  },
  {
   "cell_type": "code",
   "execution_count": 2,
   "metadata": {},
   "outputs": [
    {
     "name": "stdout",
     "output_type": "stream",
     "text": [
      "0\n",
      "1\n",
      "2\n",
      "3\n",
      "4\n",
      "0\n",
      "1\n",
      "2\n",
      "3\n",
      "4\n"
     ]
    }
   ],
   "source": [
    "i = 0\n",
    "while (i< 5):\n",
    "    print (i)\n",
    "    i+=1\n",
    "\n",
    "for i in range(5):\n",
    "    print (i)"
   ]
  },
  {
   "cell_type": "markdown",
   "metadata": {},
   "source": [
    "### Q1\n",
    "Dados dois números inteiros positivos, determinar o máximo divisor comum entre eles usando o algoritmo de Euclides."
   ]
  },
  {
   "cell_type": "code",
   "execution_count": 3,
   "metadata": {},
   "outputs": [
    {
     "name": "stdout",
     "output_type": "stream",
     "text": [
      "Digite o primeiro número (maior número): 10\n",
      "Digite o segundo número  (menor número) : 10\n",
      "Máximo divisor comum é: 10\n"
     ]
    }
   ],
   "source": [
    "num1 = int(input(\"Digite o primeiro número (maior número): \"))\n",
    "num2 = int(input(\"Digite o segundo número  (menor número) : \"))\n",
    "\n",
    "while (num1 % num2 != 0) :\n",
    "    num1, num2 = num2, num1 % num2\n",
    "\n",
    "print (\"Máximo divisor comum é:\", num2)\n",
    "\n",
    "\n"
   ]
  },
  {
   "cell_type": "markdown",
   "metadata": {},
   "source": [
    "### Q2\n",
    "\n",
    "Faça um programa que leia um nome de usuário e a sua senha e não aceite a senha igual ao nome do usuário, mostrando uma mensagem de erro e voltando a pedir as informações."
   ]
  },
  {
   "cell_type": "markdown",
   "metadata": {},
   "source": [
    "### Q3\n",
    "Faça um Programa que pergunte quanto você ganha por hora e o número de horas trabalhadas no mês. Calcule e mostre o total do seu salário no referido mês, sabendo-se que são descontados 11% para o Imposto de Renda, 8% para o INSS e 5% para o sindicato, faça um programa que nos dê o salário bruto, quanto pagou ao INSS, quanto pagou ao sindicato e o salário líquido.\n",
    "\n",
    "Observe que Salário Bruto - Descontos = Salário Líquido. Calcule os descontos e o salário líquido, conforme a tabela abaixo:\n",
    "\n",
    "a. + Salário Bruto : R$\n",
    "\n",
    "b. - IR (11%) : R$\n",
    "\n",
    "c. - INSS (8%) : R$\n",
    "\n",
    "d. - Sindicato ( 5%) : R$\n",
    "\n",
    "e. = Salário Liquido : R$"
   ]
  },
  {
   "cell_type": "markdown",
   "metadata": {},
   "source": [
    "### Q4\n",
    "Essa questão será colocada a resolução durante a semana\n",
    "\n",
    "A seqüência de Fibonacci é a seguinte: 1, 1, 2, 3, 5, 8, 13, 21, 34, 55, ... Sua regra de formação é simples: os dois primeiros elementos são 1; a partir de então, cada elemento é a soma dos dois anteriores Ex: F1= 1, F2 = 1, F3 = 2\n",
    "\n",
    "F3 = F2 + F1. \n",
    "\n",
    "Faça um algoritmo que leia um número inteiro, calcule o seu número de Fibonacci."
   ]
  },
  {
   "cell_type": "markdown",
   "metadata": {},
   "source": [
    "Próximos assuntos:\n",
    "\n",
    "* Funções de strings\n",
    "* Funções\n",
    "* Variaveis locais e globais\n",
    "* Random\n",
    "* Arquivos\n",
    "* Leitura de arquivos\n",
    "* Objetos\n",
    "* Pandas"
   ]
  },
  {
   "cell_type": "code",
   "execution_count": null,
   "metadata": {},
   "outputs": [],
   "source": []
  }
 ],
 "metadata": {
  "kernelspec": {
   "display_name": "Python 3",
   "language": "python",
   "name": "python3"
  },
  "language_info": {
   "codemirror_mode": {
    "name": "ipython",
    "version": 3
   },
   "file_extension": ".py",
   "mimetype": "text/x-python",
   "name": "python",
   "nbconvert_exporter": "python",
   "pygments_lexer": "ipython3",
   "version": "3.6.8"
  }
 },
 "nbformat": 4,
 "nbformat_minor": 2
}
