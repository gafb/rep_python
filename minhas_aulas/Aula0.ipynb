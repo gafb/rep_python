{
 "cells": [
  {
   "cell_type": "markdown",
   "metadata": {},
   "source": [
    "# Por que estudar computação?\n",
    "\n",
    "\n",
    "https://www.youtube.com/watch?v=mHW1Hsqlp6A\n",
    "\n",
    "\n",
    "\n",
    "https://www.rasmussen.edu/degrees/technology/blog/why-learn-to-code/\n",
    "\n",
    "\n",
    "* Ajuda a resolver problema em diversas áreas (Finanças, Comércio, sistemas de monitoramento médico, raspagem de dados)\n",
    "\n",
    "* O que é programar ?\n",
    "\n",
    "* O que é um algoritmo ?\n",
    "\n",
    "* Linguagens de programação\n",
    "https://insights.stackoverflow.com/survey/2018/\n",
    "\n",
    "* Ambiente de desenvolvimento (IDE)\n",
    "https://www.jetbrains.com/pycharm/ \n",
    "https://www.python.org/downloads/ \n",
    "\n",
    "\n",
    "\n"
   ]
  }
 ],
 "metadata": {
  "kernelspec": {
   "display_name": "Python 3",
   "language": "python",
   "name": "python3"
  },
  "language_info": {
   "codemirror_mode": {
    "name": "ipython",
    "version": 3
   },
   "file_extension": ".py",
   "mimetype": "text/x-python",
   "name": "python",
   "nbconvert_exporter": "python",
   "pygments_lexer": "ipython3",
   "version": "3.6.8"
  }
 },
 "nbformat": 4,
 "nbformat_minor": 2
}
