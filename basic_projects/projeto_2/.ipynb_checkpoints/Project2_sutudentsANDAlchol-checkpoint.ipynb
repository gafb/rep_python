{
 "cells": [
  {
   "cell_type": "markdown",
   "metadata": {},
   "source": [
    "# ORIGEM DOS DADOS: \n",
    "\n",
    "Dados sobre o consumo de alcool com alunos de matematica e portugues do ensino medio em Portugal\n",
    "\n",
    "- 30 aspectos da vida do aluno foram avaliados \n",
    "- 3 periodos de provas foram considerados (G1,G2 e G3)\n"
   ]
  },
  {
   "cell_type": "code",
   "execution_count": 14,
   "metadata": {},
   "outputs": [],
   "source": [
    "from IPython.display import Image\n",
    "#Image(filename=\"1.jpg\")"
   ]
  },
  {
   "cell_type": "markdown",
   "metadata": {},
   "source": [
    "### - Idade do estudantes entre idades de 15 e 22 anos\n",
    "### - Que vivem em ambiente Urbano ou Rural\n",
    "### - Ambiente familiar\n",
    "### - Vida amorosa e Social\n",
    "### - Acesso a internet\n",
    "### - Saude "
   ]
  },
  {
   "cell_type": "code",
   "execution_count": 15,
   "metadata": {
    "collapsed": true
   },
   "outputs": [],
   "source": [
    "import numpy as np # linear algebra\n",
    "import pandas as pd # data processing, CSV file I/O (e.g. pd.read_csv)\n",
    "import matplotlib.pyplot as plt\n",
    "import seaborn as sns \n",
    "from sklearn.decomposition import PCA\n",
    "from sklearn.linear_model import LinearRegression\n",
    "from sklearn.preprocessing import StandardScaler\n",
    "from sklearn.cluster import KMeans, AgglomerativeClustering"
   ]
  },
  {
   "cell_type": "code",
   "execution_count": 16,
   "metadata": {},
   "outputs": [
    {
     "name": "stdout",
     "output_type": "stream",
     "text": [
      "----------MAT----------\n",
      "  school sex  age address famsize Pstatus  Medu  Fedu     Mjob      Fjob ...  \\\n",
      "0     GP   F   18       U     GT3       A     4     4  at_home   teacher ...   \n",
      "1     GP   F   17       U     GT3       T     1     1  at_home     other ...   \n",
      "2     GP   F   15       U     LE3       T     1     1  at_home     other ...   \n",
      "3     GP   F   15       U     GT3       T     4     2   health  services ...   \n",
      "4     GP   F   16       U     GT3       T     3     3    other     other ...   \n",
      "\n",
      "  famrel freetime  goout  Dalc  Walc health absences  G1  G2  G3  \n",
      "0      4        3      4     1     1      3        6   5   6   6  \n",
      "1      5        3      3     1     1      3        4   5   5   6  \n",
      "2      4        3      2     2     3      3       10   7   8  10  \n",
      "3      3        2      2     1     1      5        2  15  14  15  \n",
      "4      4        3      2     1     2      5        4   6  10  10  \n",
      "\n",
      "[5 rows x 33 columns]\n",
      "\n",
      "\n",
      "----------PORT----------\n",
      "  school sex  age address famsize Pstatus  Medu  Fedu     Mjob      Fjob ...  \\\n",
      "0     GP   F   18       U     GT3       A     4     4  at_home   teacher ...   \n",
      "1     GP   F   17       U     GT3       T     1     1  at_home     other ...   \n",
      "2     GP   F   15       U     LE3       T     1     1  at_home     other ...   \n",
      "3     GP   F   15       U     GT3       T     4     2   health  services ...   \n",
      "4     GP   F   16       U     GT3       T     3     3    other     other ...   \n",
      "\n",
      "  famrel freetime  goout  Dalc  Walc health absences  G1  G2  G3  \n",
      "0      4        3      4     1     1      3        6   5   6   6  \n",
      "1      5        3      3     1     1      3        4   5   5   6  \n",
      "2      4        3      2     2     3      3       10   7   8  10  \n",
      "3      3        2      2     1     1      5        2  15  14  15  \n",
      "4      4        3      2     1     2      5        4   6  10  10  \n",
      "\n",
      "[5 rows x 33 columns]\n",
      "\n"
     ]
    }
   ],
   "source": [
    "data_mat = pd.read_csv('student-mat.csv')\n",
    "print(\"----------MAT----------\")\n",
    "print(data_mat.head())\n",
    "print()\n",
    "print()\n",
    "data_port = pd.read_csv('student-por.csv')\n",
    "print(\"----------PORT----------\")\n",
    "print(data_mat.head())\n",
    "print()\n"
   ]
  },
  {
   "cell_type": "markdown",
   "metadata": {},
   "source": [
    "### Observando a organizacao dos dados"
   ]
  },
  {
   "cell_type": "code",
   "execution_count": 17,
   "metadata": {},
   "outputs": [
    {
     "name": "stdout",
     "output_type": "stream",
     "text": [
      "----------Math data----------\n",
      "            DTypes  Nunique  MissingValues  Count  ZeroValues\n",
      "school      object        2              0    395           0\n",
      "sex         object        2              0    395           0\n",
      "age          int64        8              0    395           0\n",
      "address     object        2              0    395           0\n",
      "famsize     object        2              0    395           0\n",
      "Pstatus     object        2              0    395           0\n",
      "Medu         int64        5              0    395           3\n",
      "Fedu         int64        5              0    395           2\n",
      "Mjob        object        5              0    395           0\n",
      "Fjob        object        5              0    395           0\n",
      "reason      object        4              0    395           0\n",
      "guardian    object        3              0    395           0\n",
      "traveltime   int64        4              0    395           0\n",
      "studytime    int64        4              0    395           0\n",
      "failures     int64        4              0    395         312\n",
      "schoolsup   object        2              0    395           0\n",
      "famsup      object        2              0    395           0\n",
      "paid        object        2              0    395           0\n",
      "activities  object        2              0    395           0\n",
      "nursery     object        2              0    395           0\n",
      "higher      object        2              0    395           0\n",
      "internet    object        2              0    395           0\n",
      "romantic    object        2              0    395           0\n",
      "famrel       int64        5              0    395           0\n",
      "freetime     int64        5              0    395           0\n",
      "goout        int64        5              0    395           0\n",
      "Dalc         int64        5              0    395           0\n",
      "Walc         int64        5              0    395           0\n",
      "health       int64        5              0    395           0\n",
      "absences     int64       34              0    395         115\n",
      "G1           int64       17              0    395           0\n",
      "G2           int64       17              0    395          13\n",
      "G3           int64       18              0    395          38\n",
      "None\n",
      "\n",
      "\n",
      "----------Portuguese data----------\n",
      "            DTypes  Nunique  MissingValues  Count  ZeroValues\n",
      "school      object        2              0    649           0\n",
      "sex         object        2              0    649           0\n",
      "age          int64        8              0    649           0\n",
      "address     object        2              0    649           0\n",
      "famsize     object        2              0    649           0\n",
      "Pstatus     object        2              0    649           0\n",
      "Medu         int64        5              0    649           6\n",
      "Fedu         int64        5              0    649           7\n",
      "Mjob        object        5              0    649           0\n",
      "Fjob        object        5              0    649           0\n",
      "reason      object        4              0    649           0\n",
      "guardian    object        3              0    649           0\n",
      "traveltime   int64        4              0    649           0\n",
      "studytime    int64        4              0    649           0\n",
      "failures     int64        4              0    649         549\n",
      "schoolsup   object        2              0    649           0\n",
      "famsup      object        2              0    649           0\n",
      "paid        object        2              0    649           0\n",
      "activities  object        2              0    649           0\n",
      "nursery     object        2              0    649           0\n",
      "higher      object        2              0    649           0\n",
      "internet    object        2              0    649           0\n",
      "romantic    object        2              0    649           0\n",
      "famrel       int64        5              0    649           0\n",
      "freetime     int64        5              0    649           0\n",
      "goout        int64        5              0    649           0\n",
      "Dalc         int64        5              0    649           0\n",
      "Walc         int64        5              0    649           0\n",
      "health       int64        5              0    649           0\n",
      "absences     int64       24              0    649         244\n",
      "G1           int64       17              0    649           1\n",
      "G2           int64       16              0    649           7\n",
      "G3           int64       17              0    649          15\n",
      "None\n"
     ]
    }
   ],
   "source": [
    "def summary(df):\n",
    "    summary_df = pd.DataFrame(df.dtypes, columns=['DTypes'])\n",
    "    summary_df['Nunique'] = df.nunique()\n",
    "    summary_df['MissingValues'] = df.isnull().sum()\n",
    "    summary_df['Count'] = df.count()\n",
    "    summary_df['ZeroValues'] = (df==0).sum()\n",
    "    \n",
    "    print(summary_df)\n",
    "    \n",
    "    \n",
    "#call function\n",
    "print(\"----------Math data----------\")\n",
    "print(summary(data_mat))\n",
    "print()\n",
    "print()\n",
    "print(\"----------Portuguese data----------\")\n",
    "print(summary(data_port))"
   ]
  },
  {
   "cell_type": "markdown",
   "metadata": {},
   "source": [
    "### Observando a distribuicao de dados"
   ]
  },
  {
   "cell_type": "code",
   "execution_count": 18,
   "metadata": {},
   "outputs": [],
   "source": [
    "data_mat['AvgGrade'] = data_mat[['G1', 'G2', 'G3']].mean(axis=1)\n",
    "sns.set(style=\"white\", palette=\"muted\", color_codes=True)\n",
    "f, axes = plt.subplots(4, 4, figsize=(20,20))\n",
    "sns.despine(left=True)\n",
    "sns.distplot(data_mat['AvgGrade'],  kde=False, color=\"b\", ax=axes[0, 0])\n",
    "# sns.distplot(data_mat['G3'],        kde=False, color=\"b\", ax=axes[0, 1])\n",
    "# sns.distplot(data_mat['G2'],        kde=False, color=\"b\", ax=axes[0, 2])\n",
    "# sns.distplot(data_mat['G1'],        kde=False, color=\"b\", ax=axes[0, 3])\n",
    "sns.distplot(data_mat['studytime'], kde=False, color=\"b\", ax=axes[1, 0])\n",
    "sns.distplot(data_mat['freetime'],  kde=False, color=\"b\", ax=axes[1, 1])\n",
    "sns.distplot(data_mat['goout'],     kde=False, color=\"b\", ax=axes[1, 2])\n",
    "sns.distplot(data_mat['absences'],  kde=False, color=\"b\", ax=axes[1, 3])\n",
    "sns.distplot(data_mat['Dalc'],      kde=False, color=\"b\", ax=axes[2, 0])\n",
    "sns.distplot(data_mat['Walc'],      kde=False, color=\"b\", ax=axes[2, 1])\n",
    "sns.distplot(data_mat['health'],    kde=False, color=\"b\", ax=axes[2, 2])\n",
    "sns.distplot(data_mat['famrel'],    kde=False, color=\"b\", ax=axes[2, 3])\n",
    "sns.distplot(data_mat['traveltime'],kde=False, color=\"b\", ax=axes[3, 0])\n",
    "sns.distplot(data_mat['age'],       kde=False, color=\"b\", ax=axes[0, 3])\n",
    "sns.distplot(data_mat['Medu'],      kde=False, color=\"b\", ax=axes[0, 2])\n",
    "sns.distplot(data_mat['Fedu'],      kde=False, color=\"b\", ax=axes[0, 1])\n",
    "plt.tight_layout()\n"
   ]
  },
  {
   "cell_type": "code",
   "execution_count": 19,
   "metadata": {},
   "outputs": [
    {
     "data": {
      "text/plain": [
       "<matplotlib.axes._subplots.AxesSubplot at 0x7febbdbece48>"
      ]
     },
     "execution_count": 19,
     "metadata": {},
     "output_type": "execute_result"
    }
   ],
   "source": [
    "data_port['AvgGrade'] = data_port[['G1', 'G2', 'G3']].mean(axis=1)\n",
    "sns.set(style=\"white\", palette=\"muted\", color_codes=True)\n",
    "f, axes = plt.subplots(4, 4, figsize=(20,20))\n",
    "sns.despine(left=True)\n",
    "sns.distplot(data_port['AvgGrade'],  kde=False, color=\"b\", ax=axes[0, 0])\n",
    "# sns.distplot(data_port['G3'],        kde=False, color=\"b\", ax=axes[0, 1])\n",
    "# sns.distplot(data_port['G2'],        kde=False, color=\"b\", ax=axes[0, 2])\n",
    "# sns.distplot(data_port['G1'],        kde=False, color=\"b\", ax=axes[0, 3])\n",
    "sns.distplot(data_port['studytime'], kde=False, color=\"b\", ax=axes[1, 0])\n",
    "sns.distplot(data_port['freetime'],  kde=False, color=\"b\", ax=axes[1, 1])\n",
    "sns.distplot(data_port['goout'],     kde=False, color=\"b\", ax=axes[1, 2])\n",
    "sns.distplot(data_port['absences'],  kde=False, color=\"b\", ax=axes[1, 3])\n",
    "sns.distplot(data_port['Dalc'],      kde=False, color=\"b\", ax=axes[2, 0])"
   ]
  },
  {
   "cell_type": "code",
   "execution_count": null,
   "metadata": {
    "collapsed": true
   },
   "outputs": [],
   "source": []
  },
  {
   "cell_type": "code",
   "execution_count": null,
   "metadata": {
    "collapsed": true
   },
   "outputs": [],
   "source": []
  },
  {
   "cell_type": "code",
   "execution_count": 20,
   "metadata": {},
   "outputs": [],
   "source": [
    "\n",
    "sns.distplot(data_port['Walc'],      kde=False, color=\"b\", ax=axes[2, 1])\n",
    "sns.distplot(data_port['health'],    kde=False, color=\"b\", ax=axes[2, 2])\n",
    "sns.distplot(data_port['famrel'],    kde=False, color=\"b\", ax=axes[2, 3])\n",
    "sns.distplot(data_port['traveltime'],kde=False, color=\"b\", ax=axes[3, 0])\n",
    "sns.distplot(data_port['age'],       kde=False, color=\"b\", ax=axes[0, 3])\n",
    "sns.distplot(data_port['Medu'],      kde=False, color=\"b\", ax=axes[0, 2])\n",
    "sns.distplot(data_port['Fedu'],      kde=False, color=\"b\", ax=axes[0, 1])\n",
    "plt.tight_layout()"
   ]
  },
  {
   "cell_type": "markdown",
   "metadata": {},
   "source": [
    "### Criando subset e binarizando dados em formato 'objeto'"
   ]
  },
  {
   "cell_type": "code",
   "execution_count": 21,
   "metadata": {},
   "outputs": [
    {
     "name": "stdout",
     "output_type": "stream",
     "text": [
      "   failures  age  Medu  Fedu higher  G1  G2  G3 romantic  goout  Dalc  Walc  \\\n",
      "0         0   18     4     4    yes   5   6   6       no      4     1     1   \n",
      "1         0   17     1     1    yes   5   5   6       no      3     1     1   \n",
      "2         3   15     1     1    yes   7   8  10       no      2     2     3   \n",
      "3         0   15     4     2    yes  15  14  15      yes      2     1     1   \n",
      "4         0   16     3     3    yes   6  10  10       no      2     1     2   \n",
      "\n",
      "   freetime  \n",
      "0         3  \n",
      "1         3  \n",
      "2         3  \n",
      "3         2  \n",
      "4         3  \n",
      "\n",
      "higher - ['yes' 'no']\n",
      "romantic - ['no' 'yes']\n",
      "\n",
      "Transformando em dados binarios:\n",
      "\n",
      "\n",
      "higher - [1 0]\n",
      "romantic - [0 1]\n"
     ]
    }
   ],
   "source": [
    "subdata_mat = data_mat.copy()\n",
    "subdata_port = data_port.copy()\n",
    "subdata_mat = subdata_mat[['failures','age','Medu','Fedu','higher','G1','G2','G3','romantic','goout','Dalc','Walc','freetime']]\n",
    "subdata_port = subdata_port[['failures','age','Medu','Fedu','higher','G1','G2','G3','romantic','goout','Dalc','Walc','freetime']]\n",
    "print (subdata_mat.head())\n",
    "print()\n",
    "\n",
    "binary_features = ['higher','romantic']\n",
    "\n",
    "for column in binary_features:\n",
    "    print(column,\"-\",subdata_mat[column].unique()) \n",
    "    #Checa em cada coluna os tipos de respostas.\n",
    "print()\n",
    "print(\"Transformando em dados binarios:\")\n",
    "print()\n",
    "print()\n",
    "\n",
    "\n",
    "for column in binary_features:\n",
    "    if (column == 'address'):\n",
    "        subdata_mat[column] = subdata_mat[column].apply(lambda x: 1 if (x=='U') else 0)\n",
    "        subdata_port[column] = subdata_port[column].apply(lambda x: 1 if (x=='U') else 0)\n",
    "    else:\n",
    "        subdata_mat[column] = subdata_mat[column].apply(lambda x: 1 if (x=='yes') else 0)\n",
    "        subdata_port[column] = subdata_port[column].apply(lambda x: 1 if (x=='yes') else 0)\n",
    "    print(column,\"-\",subdata_mat[column].unique())\n",
    "   \n",
    "    \n"
   ]
  },
  {
   "cell_type": "markdown",
   "metadata": {},
   "source": [
    "### Fazendo correlacoes"
   ]
  },
  {
   "cell_type": "code",
   "execution_count": 22,
   "metadata": {},
   "outputs": [],
   "source": [
    "data_mat['Dalc'] = data_mat['Dalc'] + data_mat['Walc']\n",
    "data_port['Dalc'] = data_port['Dalc'] + data_port['Walc']\n",
    "\n",
    "def barplot(df,title):\n",
    "    list = []\n",
    "    for i in range(11):\n",
    "        list.append(len(df[df.Dalc == i]))\n",
    "    ax = sns.barplot(x = [0,1,2,3,4,5,6,7,8,9,10], y = list)\n",
    "    plt.ylabel('Number of Students')\n",
    "    plt.xlabel('Weekly alcohol consumptin')\n",
    "    plt.suptitle(title)\n",
    "    \n",
    "\n",
    "barplot(data_mat, \"----------Math----------\")\n"
   ]
  },
  {
   "cell_type": "code",
   "execution_count": 23,
   "metadata": {},
   "outputs": [],
   "source": [
    "barplot(data_port,\"----------Port----------\")"
   ]
  },
  {
   "cell_type": "markdown",
   "metadata": {},
   "source": [
    "### Criando subset e binarizando dados"
   ]
  },
  {
   "cell_type": "markdown",
   "metadata": {},
   "source": [
    "### Avaliando consumo de alcol X notas nas avaliacoes"
   ]
  },
  {
   "cell_type": "code",
   "execution_count": 24,
   "metadata": {},
   "outputs": [
    {
     "name": "stdout",
     "output_type": "stream",
     "text": [
      "\n"
     ]
    }
   ],
   "source": [
    "def heatmap(df,title):\n",
    "    \n",
    "    fig, axes = plt.subplots(figsize=(15, 15))\n",
    "    corr = df.corr()            # Calculate correlation of param\n",
    "\n",
    "    mask = np.zeros_like(corr)   # Create a array of zeros with the same shape as the df provided\n",
    "    # print(mask)\n",
    "\n",
    "    mask[np.triu_indices_from(mask)] = True    # set the index of the upper triangle of the array to True (1)\n",
    "    # print(mask)\n",
    "\n",
    "    with sns.axes_style(\"white\"):\n",
    "        sns.heatmap(corr, linewidths=1, \n",
    "                    annot=True, \n",
    "                    mask=mask, \n",
    "                    vmax=.3, \n",
    "                    square=True,\n",
    "                   fmt=\".2f\",\n",
    "                   cbar=True)  # mask: data will not be\n",
    "        plt.suptitle(title, size=\"30\")\n",
    "        \n",
    "        \n",
    "heatmap(subdata_mat,\"----------Math Heatmap----------\")\n",
    "print()\n"
   ]
  },
  {
   "cell_type": "code",
   "execution_count": 25,
   "metadata": {},
   "outputs": [
    {
     "name": "stdout",
     "output_type": "stream",
     "text": [
      "\n"
     ]
    }
   ],
   "source": [
    "print()\n",
    "heatmap(subdata_port,\"----------Port Heatmap----------\")"
   ]
  },
  {
   "cell_type": "code",
   "execution_count": 26,
   "metadata": {},
   "outputs": [
    {
     "data": {
      "text/plain": [
       "<matplotlib.axes._subplots.AxesSubplot at 0x7febbc315e48>"
      ]
     },
     "execution_count": 26,
     "metadata": {},
     "output_type": "execute_result"
    }
   ],
   "source": [
    "#Swarmplot comparando consumo semanal de alcool e notas finais dos alunos.\n",
    "sns.set(style=\"white\", palette=\"muted\", color_codes=True) #Caracterizando o padrao do grafico\n",
    "f, axes = plt.subplots(2, 1, figsize=(20,20)) #Criando uma figura de subplots agrupados em 4 linhas e 4 colunas, tamanho 20x20\n",
    "\n",
    "plt.subplot(2, 1, 1)\n",
    "ave = sum(data_mat.G3)/float(len(data_mat))\n",
    "data_mat['ave_line'] = ave\n",
    "data_mat['average'] = ['above average' if i > ave else 'under average' for i in data_mat.G3]\n",
    "sns.swarmplot(x=data_mat['Dalc'], y = data_mat['G3'], hue = data_mat['average'],data= data_mat,palette={'above average':'lime', 'under average': 'red'})\n",
    "\n",
    "plt.subplot(2,1,2)\n",
    "avept = sum(data_port.G3)/float(len(data_port))\n",
    "data_port['ave_line'] = avept\n",
    "data_port['average'] = ['above average' if i > avept else 'under average' for i in data_port.G3]\n",
    "sns.swarmplot(x=data_port['Dalc'], y = data_port['G3'], hue = data_port['average'],data= data_port,palette={'above average':'lime', 'under average': 'red'})"
   ]
  },
  {
   "cell_type": "markdown",
   "metadata": {},
   "source": [
    "### PCA e regressao linear"
   ]
  },
  {
   "cell_type": "code",
   "execution_count": 27,
   "metadata": {},
   "outputs": [
    {
     "name": "stdout",
     "output_type": "stream",
     "text": [
      "original shape: (395, 2)\n",
      "transformed shape: (395, 1)\n"
     ]
    }
   ],
   "source": [
    "def AddFinalGrade(data):\n",
    "    data.eval('final_grade = (((G1+G2)/2) + G3)/4', inplace=True)\n",
    "    return data\n",
    "\n",
    "def ProblemsProbability(data):\n",
    "    target = data.query('(failures >0 or final_grade < 5 ) and famrel < 4' )\n",
    "    #PCA as dimensionality reduction\n",
    "    print (f\"Probabilidade de alunos que reprovaram ou vao reprovar e possivelmente tem problemas com a familia {target.shape[0]/data.shape[0]: .02f}\")\n",
    "    \n",
    "def PCA_plot(X):\n",
    "    \n",
    "    pca = PCA(n_components =1)\n",
    "    pca.fit(X)\n",
    "    X_pca = pca.transform(X)\n",
    "    print (\"original shape:\", X.shape)\n",
    "    print (\"transformed shape:\", X_pca.shape)\n",
    "    \n",
    "    X_new = pca.inverse_transform(X_pca)\n",
    "    plt.scatter(X[:,0], X[:,1], alpha=0.2)\n",
    "    plt.scatter(X_new[:,0], X_new[:,1], alpha=0.8)\n",
    "    plt.axis('equal')\n",
    "\n",
    "def RegressionFunction(x,y):\n",
    "    model = LinearRegression(fit_intercept=True)\n",
    "\n",
    "    model.fit(x[:,np.newaxis], y )\n",
    "\n",
    "    xfit = np.linspace(0,10,1000)\n",
    "    yfit = model.predict(xfit[:, np.newaxis])\n",
    "\n",
    "    plt.scatter(x,y)\n",
    "    plt.plot (xfit, yfit)\n",
    "    \n",
    "data_mat = AddFinalGrade(data_mat)\n",
    "data_port = AddFinalGrade(data_port)\n",
    "#x = data_mat['G3']\n",
    "x = data_mat['final_grade']\n",
    "y = data_mat['famrel']\n",
    "data_scatter_mat = np.column_stack((x, y)) \n",
    "\n",
    "\n",
    "\n",
    "PCA_plot(data_scatter_mat)\n",
    "# RegressionFunction(x,y)"
   ]
  },
  {
   "cell_type": "code",
   "execution_count": 28,
   "metadata": {},
   "outputs": [],
   "source": [
    "RegressionFunction(x,y) #Matematica"
   ]
  },
  {
   "cell_type": "code",
   "execution_count": 29,
   "metadata": {},
   "outputs": [
    {
     "name": "stdout",
     "output_type": "stream",
     "text": [
      "original shape: (649, 2)\n",
      "transformed shape: (649, 1)\n"
     ]
    }
   ],
   "source": [
    "\n",
    "#x = data_port['G3']\n",
    "x = data_port['final_grade']\n",
    "y = data_port['famrel']\n",
    "data_scatter_port = np.column_stack((x, y)) \n",
    "\n",
    "\n",
    "PCA_plot(data_scatter_port)\n"
   ]
  },
  {
   "cell_type": "code",
   "execution_count": 30,
   "metadata": {},
   "outputs": [],
   "source": [
    "RegressionFunction(x,y) #Portugues"
   ]
  },
  {
   "cell_type": "code",
   "execution_count": 31,
   "metadata": {},
   "outputs": [
    {
     "name": "stdout",
     "output_type": "stream",
     "text": [
      "Probabilidade de alunos que reprovaram ou vao reprovar e possivelmente tem problemas com a familia  0.11\n"
     ]
    }
   ],
   "source": [
    "ProblemsProbability(data_mat)"
   ]
  },
  {
   "cell_type": "code",
   "execution_count": 32,
   "metadata": {},
   "outputs": [
    {
     "name": "stdout",
     "output_type": "stream",
     "text": [
      "Probabilidade de alunos que reprovaram ou vao reprovar e possivelmente tem problemas com a familia  0.08\n"
     ]
    }
   ],
   "source": [
    "ProblemsProbability(data_port)"
   ]
  },
  {
   "cell_type": "code",
   "execution_count": null,
   "metadata": {
    "collapsed": true
   },
   "outputs": [],
   "source": []
  }
 ],
 "metadata": {
  "kernelspec": {
   "display_name": "Python 3",
   "language": "python",
   "name": "python3"
  },
  "language_info": {
   "codemirror_mode": {
    "name": "ipython",
    "version": 3
   },
   "file_extension": ".py",
   "mimetype": "text/x-python",
   "name": "python",
   "nbconvert_exporter": "python",
   "pygments_lexer": "ipython3",
   "version": "3.6.2"
  }
 },
 "nbformat": 4,
 "nbformat_minor": 2
}
